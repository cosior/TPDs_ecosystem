{
 "cells": [
  {
   "cell_type": "code",
   "execution_count": 1,
   "id": "dac62665",
   "metadata": {},
   "outputs": [],
   "source": [
    "# Load the bins statistics for all the grouped pairs \n",
    "import json\n",
    "\n",
    "f_name = \"Bins_Stats_EdgeList_TLD_step_3.json\"\n",
    "\n",
    "with open(f_name, \"r\") as fp:\n",
    "    data = json.load(fp)"
   ]
  },
  {
   "cell_type": "markdown",
   "id": "0d34d719",
   "metadata": {},
   "source": [
    "### Load the service type of the TLD / legal entities"
   ]
  },
  {
   "cell_type": "code",
   "execution_count": 2,
   "id": "3bb5a8aa",
   "metadata": {},
   "outputs": [],
   "source": [
    "# Load the mapping between the nodes and the services that they provide\n",
    "import Service_Type as service\n",
    "\n",
    "# To hold the statistics of the different grouping types\n",
    "STATS = {}\n",
    "\n",
    "T = service.TYPES\n",
    "\n",
    "for e in data[\"pairs\"]:\n",
    "    bin = e[\"bin\"]\n",
    "    # Initialize stats for a specific bin\n",
    "    if bin not in STATS:\n",
    "        STATS[bin] = {\"comp\": 0, \"not_comp\": 0}\n",
    "    # Check if the pairs have complimentary service type or not\n",
    "    if e[\"tld_src\"] in T:\n",
    "        M_SRC = T[e[\"tld_src\"]]\n",
    "    if e[\"tld_dst\"] in T:\n",
    "        M_DST = T[e[\"tld_dst\"]]\n",
    "    if M_SRC == M_DST:\n",
    "        STATS[bin][\"not_comp\"] += 1\n",
    "    else:\n",
    "        STATS[bin][\"comp\"] += 1"
   ]
  },
  {
   "cell_type": "code",
   "execution_count": 3,
   "id": "c04a619f",
   "metadata": {},
   "outputs": [
    {
     "name": "stdout",
     "output_type": "stream",
     "text": [
      "Labels: 18\n",
      "Comp: 18\n",
      "Not_comp: 18\n"
     ]
    }
   ],
   "source": [
    "# Prepare plot data\n",
    "labels = []\n",
    "comp = []\n",
    "not_comp = []\n",
    "for b in STATS:\n",
    "    labels.append(b)\n",
    "    comp.append(STATS[b]['comp'])\n",
    "    not_comp.append(STATS[b]['not_comp'])\n",
    "\n",
    "print(\"Labels: {}\\nComp: {}\\nNot_comp: {}\".format(len(labels), len(comp), len(not_comp)))"
   ]
  },
  {
   "cell_type": "code",
   "execution_count": 4,
   "id": "f0754d40",
   "metadata": {},
   "outputs": [
    {
     "data": {
      "image/png": "[encoded data removed]",
      "text/plain": [
       "<Figure size 600x400 with 1 Axes>"
      ]
     },
     "metadata": {
      "needs_background": "light"
     },
     "output_type": "display_data"
    }
   ],
   "source": [
    "import matplotlib.pyplot as plt\n",
    "import matplotlib\n",
    "import numpy as np\n",
    "from matplotlib.backends.backend_pdf import PdfPages\n",
    "\n",
    "font = {'family': 'DejaVu Sans',\n",
    "        'weight': 'normal',\n",
    "        'size'  : 16}\n",
    "matplotlib.rc('font', **font)\n",
    "\n",
    "pp = PdfPages(\"Comp_Vs_Similar_All.pdf\")\n",
    "width = 0.35\n",
    "X = np.arange(len(labels))\n",
    "fig, ax1 = plt.subplots(figsize=(6, 4), dpi=100)\n",
    "\n",
    "plt.bar(X, comp, width, color=\"b\", label=\"Comp.\")\n",
    "plt.bar(X + width, not_comp, width, color=\"r\", label=\"Similar\")\n",
    "plt.xlabel('hyperbolic distance x')\n",
    "plt.ylabel(\"# of pairs\")\n",
    "plt.xticks(X + width / 2, labels, rotation=60)\n",
    "plt.legend(loc='best')\n",
    "\n",
    "fig.tight_layout()  # otherwise the right y-label is slightly clipped\n",
    "plt.savefig(pp, format='pdf')\n",
    "pp.close()"
   ]
  },
  {
   "cell_type": "markdown",
   "id": "5a177b52",
   "metadata": {},
   "source": [
    "# Future grouping"
   ]
  },
  {
   "cell_type": "code",
   "execution_count": 5,
   "id": "a440638b",
   "metadata": {},
   "outputs": [],
   "source": [
    "# Load the bins statistics for the FUTURE grouping pairs \n",
    "import json\n",
    "\n",
    "f_name = \"Bins_Stats_EdgeList_TLD_FUTURE_step_6.json\"\n",
    "\n",
    "with open(f_name, \"r\") as fp:\n",
    "    data_f = json.load(fp)"
   ]
  },
  {
   "cell_type": "code",
   "execution_count": 6,
   "id": "ea8d2e35",
   "metadata": {},
   "outputs": [],
   "source": [
    "# Load the mapping between the nodes and the services that they provide\n",
    "import Service_Type as service\n",
    "\n",
    "# To hold the statistics of the different grouping types\n",
    "STATS_F = {}\n",
    "T = service.TYPES\n",
    "\n",
    "for e in data_f[\"pairs\"]:\n",
    "    bin = e[\"bin\"]\n",
    "    # Initialize stats for a specific bin\n",
    "    if bin not in STATS_F:\n",
    "        STATS_F[bin] = {\"comp\": 0, \"not_comp\": 0}\n",
    "    # Check if the pairs have complimentary service type or not\n",
    "    if e[\"tld_src\"] in T:\n",
    "        M_SRC = T[e[\"tld_src\"]]\n",
    "    if e[\"tld_dst\"] in T:\n",
    "        M_DST = T[e[\"tld_dst\"]]\n",
    "    if M_SRC == M_DST:\n",
    "        STATS_F[bin][\"not_comp\"] += 1\n",
    "    else:\n",
    "        STATS_F[bin][\"comp\"] += 1"
   ]
  },
  {
   "cell_type": "code",
   "execution_count": 7,
   "id": "4dbc3167",
   "metadata": {},
   "outputs": [
    {
     "name": "stdout",
     "output_type": "stream",
     "text": [
      "Labels: 6\n",
      "Comp: 6\n",
      "Not_comp: 6\n"
     ]
    }
   ],
   "source": [
    "# Prepare plot data\n",
    "labels_f = []\n",
    "comp_f = []\n",
    "not_comp_f = []\n",
    "for b in STATS_F:\n",
    "    labels_f.append(b)\n",
    "    comp_f.append(STATS_F[b]['comp'])\n",
    "    not_comp_f.append(STATS_F[b]['not_comp'])\n",
    "\n",
    "print(\"Labels: {}\\nComp: {}\\nNot_comp: {}\".format(len(labels_f), len(comp_f), len(not_comp_f)))"
   ]
  },
  {
   "cell_type": "code",
   "execution_count": 8,
   "id": "c23de76e",
   "metadata": {},
   "outputs": [
    {
     "data": {
      "image/png": "[encoded data removed]",
      "text/plain": [
       "<Figure size 600x400 with 1 Axes>"
      ]
     },
     "metadata": {
      "needs_background": "light"
     },
     "output_type": "display_data"
    }
   ],
   "source": [
    "import matplotlib.pyplot as plt\n",
    "import matplotlib\n",
    "import numpy as np\n",
    "from matplotlib.backends.backend_pdf import PdfPages\n",
    "\n",
    "font = {'family': 'DejaVu Sans',\n",
    "        'weight': 'normal',\n",
    "        'size'  : 16}\n",
    "matplotlib.rc('font', **font)\n",
    "\n",
    "pp = PdfPages(\"Comp_Vs_Similar_Future.pdf\")\n",
    "width = 0.4\n",
    "X = np.arange(len(labels_f))\n",
    "fig, ax1 = plt.subplots(figsize=(6, 4), dpi=100)\n",
    "\n",
    "plt.bar(X, comp_f, width, color=\"b\", label=\"Comp.\")\n",
    "plt.bar(X + width, not_comp_f, width, color=\"r\", label=\"Similar\")\n",
    "plt.xlabel('hyperbolic distance x')\n",
    "plt.xticks(X + width / 2, labels_f, rotation=60)\n",
    "plt.legend(loc='best')\n",
    "\n",
    "fig.tight_layout()\n",
    "plt.savefig(pp, format='pdf')\n",
    "pp.close()"
   ]
  },
  {
   "cell_type": "code",
   "execution_count": null,
   "id": "d543b2a5",
   "metadata": {},
   "outputs": [],
   "source": []
  }
 ],
 "metadata": {
  "kernelspec": {
   "display_name": "Python 3",
   "language": "python",
   "name": "python3"
  },
  "language_info": {
   "codemirror_mode": {
    "name": "ipython",
    "version": 3
   },
   "file_extension": ".py",
   "mimetype": "text/x-python",
   "name": "python",
   "nbconvert_exporter": "python",
   "pygments_lexer": "ipython3",
   "version": "3.8.11"
  }
 },
 "nbformat": 4,
 "nbformat_minor": 5
}
