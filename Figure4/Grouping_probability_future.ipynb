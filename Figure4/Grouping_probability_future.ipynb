{
 "cells": [
  {
   "cell_type": "markdown",
   "id": "fd2f5ad8",
   "metadata": {},
   "source": [
    "# Recreation of Figure 3 (b)\n",
    "Future grouping probabilities $p_m^f(x)$ as a function of the hyperbolic distance x between TLD+1 nodes. "
   ]
  },
  {
   "cell_type": "markdown",
   "id": "162c652c",
   "metadata": {},
   "source": [
    "### 1. Load the nodes coordinates file."
   ]
  },
  {
   "cell_type": "code",
   "execution_count": 1,
   "id": "da5bca0a",
   "metadata": {},
   "outputs": [
    {
     "name": "stdout",
     "output_type": "stream",
     "text": [
      "# of nodes: 1847\n"
     ]
    }
   ],
   "source": [
    "import re, json\n",
    "\n",
    "# The nodes coordinates of the TLD+1 network  \n",
    "f_name = \"../Datasets/EdgeList_TLD.inf_coord\"\n",
    "\n",
    "header_map = {\n",
    "    \"Vertex\": \"id\",\n",
    "    \"Inf.Kappa\": \"kappa\",\n",
    "    \"Inf.Theta\": \"theta_rad\",\n",
    "    \"Inf.Hyp.Rad.\": \"r\"\n",
    "}\n",
    "\n",
    "# The final dataset\n",
    "dataset = {}\n",
    "# The output header variables\n",
    "header = []\n",
    "# The network nodes \n",
    "nodes = []\n",
    "# The embedding parameters\n",
    "parameters = {}\n",
    "\n",
    "# Read the Mercator output file line by line\n",
    "with open(f_name, \"r\") as fp:\n",
    "    for l in fp.readlines():\n",
    "        # Line cleanup step\n",
    "        line = re.sub(' +', ' ', l.strip())\n",
    "        # Process Comment line\n",
    "        if line.startswith(\"#\"):\n",
    "            # Extract parameters\n",
    "            if \" - \" in line:\n",
    "                tmp = line.replace(\"# - \", \"\").split(\": \")\n",
    "                parameters[tmp[0]] = float(tmp[1])\n",
    "            # Extract data header\n",
    "            elif line.startswith(\"# Vertex\"):\n",
    "                tmp = line.replace(\"# \", \"\").split(\" \")\n",
    "                for e in tmp:\n",
    "                    header.append(header_map[e])\n",
    "        else: # Process nodes data\n",
    "            tmp = line.split(\" \")\n",
    "            t = {}\n",
    "            for k, v in zip(header, tmp):\n",
    "                t[k] = v\n",
    "            nodes.append(t)\n",
    "\n",
    "dataset[\"parameters\"] = parameters\n",
    "dataset[\"nodes\"] = nodes\n",
    "\n",
    "print(\"# of nodes: {}\".format(len(dataset[\"nodes\"])))"
   ]
  },
  {
   "cell_type": "code",
   "execution_count": 2,
   "id": "fafc4f9c",
   "metadata": {},
   "outputs": [
    {
     "name": "stdout",
     "output_type": "stream",
     "text": [
      "# of node ids: 1847\n"
     ]
    }
   ],
   "source": [
    "# Dictionary to hold the nodes' attributes, theta (\"t\") and radius (\"r\").\n",
    "NDict = {}\n",
    "\n",
    "# Loop through all nodes and cast their attributes from string to float.\n",
    "for n in dataset[\"nodes\"]:\n",
    "    # Cast string values into float\n",
    "    NDict[n[\"id\"]] = {\n",
    "        \"t\": float(n[\"theta_rad\"]),\n",
    "        \"r\": float(n[\"r\"])\n",
    "    }\n",
    "\n",
    "# Get all node ids to create all possible links between them.\n",
    "all_n_ids = NDict.keys()\n",
    "\n",
    "print(\"# of node ids: {}\".format(len(all_n_ids)))"
   ]
  },
  {
   "cell_type": "markdown",
   "id": "297ace8e",
   "metadata": {},
   "source": [
    "### 2. Prepare all node combinations and estimate the hyperbolic distance between them. "
   ]
  },
  {
   "cell_type": "code",
   "execution_count": 3,
   "id": "0b0a829c",
   "metadata": {},
   "outputs": [
    {
     "data": {
      "application/vnd.jupyter.widget-view+json": {
       "model_id": "350ca4f0b1014453bcdbe054ddae9701",
       "version_major": 2,
       "version_minor": 0
      },
      "text/plain": [
       "Pairs done:   0%|          | 0/1704781.0 [00:00<?, ?it/s]"
      ]
     },
     "metadata": {},
     "output_type": "display_data"
    },
    {
     "name": "stdout",
     "output_type": "stream",
     "text": [
      "All link combinations: 1704781\n"
     ]
    }
   ],
   "source": [
    "import math\n",
    "import itertools\n",
    "from tqdm.notebook import tqdm\n",
    "\n",
    "# Function to calculate the hyperbolic distance between two nodes\n",
    "def distance(i, j):\n",
    "    ti = i[\"t\"]\n",
    "    tj = j[\"t\"]\n",
    "    ri = i[\"r\"]\n",
    "    rj = j[\"r\"]\n",
    "    \n",
    "    theta = abs(ti - tj)\n",
    "    \n",
    "    if theta > math.pi:\n",
    "        theta = 2 * math.pi - theta\n",
    "    \n",
    "    if theta == 0.0:\n",
    "        return abs(ti-tj)\n",
    "    \n",
    "    return math.acosh( (math.cosh(ri) * math.cosh(rj)) - (math.sinh(ri) * math.sinh(rj) * math.cos(theta)) )\n",
    "\n",
    "# Variable to hold the distance between all node combinations\n",
    "Comb = {}\n",
    "\n",
    "with tqdm(total=(len(all_n_ids) * (len(all_n_ids)-1))/2, desc=\"Pairs done\") as pbar:\n",
    "    for i, j in itertools.combinations(all_n_ids, 2):\n",
    "        dist = distance(NDict[i], NDict[j])\n",
    "        Comb[i + \" \" + j] = dist\n",
    "        pbar.update(1)\n",
    "\n",
    "print(\"All link combinations: {}\".format(len(Comb)))"
   ]
  },
  {
   "cell_type": "code",
   "execution_count": 4,
   "id": "1e5eee1f",
   "metadata": {},
   "outputs": [
    {
     "name": "stdout",
     "output_type": "stream",
     "text": [
      "C_MAP length: 119\n"
     ]
    }
   ],
   "source": [
    "# Also load the crunchbase dataset mapping to organizations that we will need later\n",
    "import json\n",
    "\n",
    "with open(\"future-mergings_list.json\", \"r\") as fp:\n",
    "    C_MAP = json.load(fp)\n",
    "\n",
    "print(\"C_MAP length: {}\".format(len(C_MAP)))"
   ]
  },
  {
   "cell_type": "markdown",
   "id": "584266ce",
   "metadata": {},
   "source": [
    "### 3. Estimate Hyperbolic Distance"
   ]
  },
  {
   "cell_type": "code",
   "execution_count": 5,
   "id": "d30e90af",
   "metadata": {},
   "outputs": [],
   "source": [
    "import operator\n",
    "\n",
    "# Assigned nodes to bins based on their hyperbolic distance.\n",
    "def create_bins(combinations, step, debug=False):\n",
    "    # First we sort all pairs based on their hyperbolic distance\n",
    "    sorted_dist = sorted(combinations.items(), key=operator.itemgetter(1), reverse=True)\n",
    "    s_f = sorted_dist.copy()\n",
    "\n",
    "    # Variables to allow us to assign nodes to different hyperbolic distance bins\n",
    "    bin_min = 0\n",
    "    bin_max = step\n",
    "    counter = 0\n",
    "    bin = str(bin_max)\n",
    "    # To hold the final pairs in each bin\n",
    "    res = {}\n",
    "    # Initialize the first bin\n",
    "    res[bin] = []\n",
    "\n",
    "    N = s_f.pop()\n",
    "    while len(s_f) != 0:\n",
    "        dist = N[1]\n",
    "        if dist >= bin_max:\n",
    "            if debug: print(bin, counter, len(res[bin]), N)\n",
    "            bin_min = bin_max\n",
    "            bin_max += step\n",
    "            counter = 0\n",
    "            bin = str(bin_max)\n",
    "        if bin not in res:\n",
    "            res[bin] = []\n",
    "        if dist <= bin_max and dist >= bin_min:\n",
    "            res[bin].append(N)\n",
    "            N = s_f.pop()\n",
    "            counter += 1\n",
    "\n",
    "    # To handle the last node N from s_f.pop() above. \n",
    "    while True:\n",
    "        dist = N[1]\n",
    "        if dist >= bin_max:\n",
    "            if debug: print(bin, counter, len(res[bin]), N)\n",
    "            bin_min = bin_max\n",
    "            bin_max += step\n",
    "            counter = 0\n",
    "            bin = str(bin_max)\n",
    "        if bin not in res:\n",
    "            res[bin] = []\n",
    "        if dist <= bin_max and dist >= bin_min:\n",
    "            res[bin].append(N)\n",
    "            counter += 1\n",
    "            break\n",
    "    if debug: print(bin, counter, len(res[bin]), N)\n",
    "    return res\n",
    "\n",
    "# Estimate the grouping probability per bin and return the plot data\n",
    "def create_plot_data(bins, org_map, bin_cut, step, debug=False):\n",
    "    labels = []\n",
    "    props = []\n",
    "    pos_counter = 0\n",
    "    DETAILS = {\"bins\": {}, \"pairs\": []}\n",
    "\n",
    "    for b in bins:\n",
    "        #print(b)\n",
    "        z = len(bins[b])\n",
    "        m = 0\n",
    "        for c in bins[b]:\n",
    "            if c[0] in org_map:\n",
    "                if org_map[c[0]]['legal_src'] == org_map[c[0]]['legal_dst']:\n",
    "                    m += 1\n",
    "                    t = c[0].split(\" \")\n",
    "                    src = t[0]\n",
    "                    dst = t[1]\n",
    "                    DETAILS[\"pairs\"].append({\n",
    "                        'bin': b,\n",
    "                        'position': pos_counter,\n",
    "                        'tld_src': t[0],\n",
    "                        'tld_dst': t[1],\n",
    "                        'legal_src': src,\n",
    "                        'legal_dst': dst,\n",
    "                        'parent_src': org_map[c[0]]['legal_src'],\n",
    "                        'parent_dst': org_map[c[0]]['legal_dst']\n",
    "                    })\n",
    "            pos_counter += 1\n",
    "    \n",
    "        m_z = 0\n",
    "\n",
    "        # Estimate the grouping probability\n",
    "        if z != 0:\n",
    "            m_z = m/z\n",
    "\n",
    "        DETAILS['bins'][b] = {\n",
    "            \"all\": z,\n",
    "            \"found\": m,\n",
    "            \"percentage\": m_z,\n",
    "        }\n",
    "\n",
    "        if debug: print(b, z, m, m_z)\n",
    "        if z > bin_cut: # Exclude bins with no observations\n",
    "            labels.append(b)\n",
    "            props.append(m_z)\n",
    "        else:\n",
    "            labels.append(b)\n",
    "            props.append(None)\n",
    "\n",
    "    # Export also binning statistics to create the figure 4 plots.\n",
    "    with open(\"../Figure4/Bins_Stats_EdgeList_TLD_FUTURE_step_\" + str(step) + \".json\", \"w\") as fp:\n",
    "        json.dump(DETAILS, fp, indent=2)\n",
    "\n",
    "    return labels, props"
   ]
  },
  {
   "cell_type": "code",
   "execution_count": 6,
   "id": "ddfd2d1a",
   "metadata": {},
   "outputs": [],
   "source": [
    "# Define the hyperbolic distance binning step\n",
    "STEP = 6"
   ]
  },
  {
   "cell_type": "code",
   "execution_count": 7,
   "id": "69459585",
   "metadata": {},
   "outputs": [
    {
     "name": "stdout",
     "output_type": "stream",
     "text": [
      "# of bins: 12\n"
     ]
    }
   ],
   "source": [
    "# Assigned nodes to bins based on their hyperbolic distance.\n",
    "BINS = create_bins(combinations=Comb, step=STEP, debug=False)\n",
    "print(\"# of bins: {}\".format(len(BINS)))"
   ]
  },
  {
   "cell_type": "code",
   "execution_count": 8,
   "id": "0378458c",
   "metadata": {},
   "outputs": [
    {
     "name": "stdout",
     "output_type": "stream",
     "text": [
      "# of labels: 12\n",
      "# of props: 12\n"
     ]
    }
   ],
   "source": [
    "# Prepare data for plotting\n",
    "BIN_CUT = 2962\n",
    "labels, props = create_plot_data(bins=BINS, org_map=C_MAP, bin_cut=BIN_CUT, step=STEP, debug=False)\n",
    "print(\"# of labels: {}\\n# of props: {}\".format(len(labels), len(props)))"
   ]
  },
  {
   "cell_type": "code",
   "execution_count": 10,
   "id": "878f2c30",
   "metadata": {},
   "outputs": [
    {
     "name": "stdout",
     "output_type": "stream",
     "text": [
      "Discriminatory Power: 6.980368739445125e-05\n",
      "Baseline Probability: 0.006980368739445125\n"
     ]
    }
   ],
   "source": [
    "# Discriminatory Power\n",
    "merged_seen = len(C_MAP)\n",
    "ALL_PAIRS = set(Comb.keys())\n",
    "disc_power = merged_seen/len(ALL_PAIRS)\n",
    "print(\"Discriminatory Power: {}\\nBaseline Probability: {}\".format(disc_power, merged_seen/len(ALL_PAIRS)*100))"
   ]
  },
  {
   "cell_type": "code",
   "execution_count": 12,
   "id": "c8f87d95",
   "metadata": {},
   "outputs": [
    {
     "data": {
      "image/png": "[encoded data removed]",
      "text/plain": [
       "<Figure size 600x400 with 1 Axes>"
      ]
     },
     "metadata": {
      "needs_background": "light"
     },
     "output_type": "display_data"
    }
   ],
   "source": [
    "import matplotlib\n",
    "import matplotlib.pyplot as plt\n",
    "from matplotlib.backends.backend_pdf import PdfPages\n",
    "import numpy as np\n",
    "\n",
    "font = {'family' : 'DejaVu Sans',\n",
    "        'weight' : 'normal',\n",
    "        'size'   : 16}\n",
    "matplotlib.rc('font', **font)\n",
    "\n",
    "out_f_name = \"Grouping_probability_Future_step_\" + str(STEP)\n",
    "pp = PdfPages( out_f_name + \".pdf\")\n",
    "fig, ax1 = plt.subplots(figsize=(6, 4), dpi=100)\n",
    "disc_power_l = [disc_power for x in labels]\n",
    "xs = np.arange(len(labels))\n",
    "np_pros = np.array(props).astype(np.double)\n",
    "masks = np.isfinite(np_pros)\n",
    "\n",
    "ax1.set_xlabel('hyperbolic distance x')\n",
    "ax1.plot(xs[masks],  np_pros[masks], 'ks-',  markersize=8, markerfacecolor=\"b\", markeredgewidth=1.0, markeredgecolor=\"black\", color=\"black\")\n",
    "\n",
    "ax1.plot(np.arange(len(labels)),  disc_power_l, linestyle='--', color='grey', label = 'baseline probability')\n",
    "ax1.text(disc_power+4.2, disc_power+0.00002, \"{:.5f}\".format(disc_power), transform=ax1.transData)\n",
    "\n",
    "ax1.tick_params(axis='y') \n",
    "ax1.set_xticks(range(len(labels)))\n",
    "ax1.set_ylabel('$p_g^f(x)$')\n",
    "ax1.set_xticklabels(labels)\n",
    "ax1.tick_params(axis='x', labelrotation = 45)\n",
    "\n",
    "plt.legend()\n",
    "plt.yscale('log')\n",
    "ax1.set_xlim([4, 11])\n",
    "ax1.set_ylim([0.0000008, 0.01])\n",
    "\n",
    "fig.tight_layout()  # otherwise the right y-label is slightly clipped\n",
    "plt.savefig(pp, format='pdf')\n",
    "pp.close()"
   ]
  },
  {
   "cell_type": "code",
   "execution_count": null,
   "id": "feed8288",
   "metadata": {},
   "outputs": [],
   "source": []
  }
 ],
 "metadata": {
  "kernelspec": {
   "display_name": "Python 3",
   "language": "python",
   "name": "python3"
  },
  "language_info": {
   "codemirror_mode": {
    "name": "ipython",
    "version": 3
   },
   "file_extension": ".py",
   "mimetype": "text/x-python",
   "name": "python",
   "nbconvert_exporter": "python",
   "pygments_lexer": "ipython3",
   "version": "3.8.11"
  }
 },
 "nbformat": 4,
 "nbformat_minor": 5
}
