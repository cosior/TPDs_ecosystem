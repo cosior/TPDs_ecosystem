{
 "cells": [
  {
   "cell_type": "markdown",
   "id": "5bde2ef4",
   "metadata": {},
   "source": [
    "# Recreation of Figure 5 \n",
    "Co-hosting probabilities $p_h(x)$ as a function of the hyperbolic distance x between TLD+1 nodes. "
   ]
  },
  {
   "cell_type": "markdown",
   "id": "d7e96a62",
   "metadata": {},
   "source": [
    "### 1. Load the file with the node pairs that share IP."
   ]
  },
  {
   "cell_type": "code",
   "execution_count": 1,
   "id": "c07ad5bf",
   "metadata": {},
   "outputs": [
    {
     "name": "stdout",
     "output_type": "stream",
     "text": [
      "# of pairs with shared IP: 1181\n"
     ]
    }
   ],
   "source": [
    "# Read the pairs with shared IPs\n",
    "\n",
    "plotName = \"SameIPs\"\n",
    "\n",
    "pos_links = set()\n",
    "\n",
    "same_ip_f_name = \"co-hosting_list.txt\"\n",
    "\n",
    "with open(same_ip_f_name, \"r\") as fp:\n",
    "    for l in fp.readlines():\n",
    "        l = l.strip().split(\" \")[0]\n",
    "        pos_links.add(l)\n",
    "\n",
    "print(\"# of pairs with shared IP: {}\".format(len(pos_links)))"
   ]
  },
  {
   "cell_type": "markdown",
   "id": "63fc080a",
   "metadata": {},
   "source": [
    "### 2. Load the nodes coordinates file."
   ]
  },
  {
   "cell_type": "code",
   "execution_count": 2,
   "id": "bdbd14dd",
   "metadata": {},
   "outputs": [
    {
     "name": "stdout",
     "output_type": "stream",
     "text": [
      "# of nodes: 1215\n"
     ]
    }
   ],
   "source": [
    "import re\n",
    "\n",
    "# The Legal-entities network with the nodes coordinates \n",
    "f_name = \"../Datasets/EdgeList_Legal_Entities.inf_coord\"\n",
    "\n",
    "header_map = {\n",
    "    \"Vertex\": \"id\",\n",
    "    \"Inf.Kappa\": \"kappa\",\n",
    "    \"Inf.Theta\": \"theta_rad\",\n",
    "    \"Inf.Hyp.Rad.\": \"r\"\n",
    "}\n",
    "\n",
    "# The final dataset\n",
    "dataset = {}\n",
    "# The output header variables\n",
    "header = []\n",
    "# The network nodes \n",
    "nodes = []\n",
    "# The embedding parameters\n",
    "parameters = {}\n",
    "\n",
    "# Read the Mercator output file line by line\n",
    "with open(f_name, \"r\") as fp:\n",
    "    for l in fp.readlines():\n",
    "        # Line cleanup step\n",
    "        line = re.sub(' +', ' ', l.strip())\n",
    "        # Process Comment line\n",
    "        if line.startswith(\"#\"):\n",
    "            # Extract parameters\n",
    "            if \" - \" in line:\n",
    "                tmp = line.replace(\"# - \", \"\").split(\": \")\n",
    "                parameters[tmp[0]] = float(tmp[1])\n",
    "            # Extract data header\n",
    "            elif line.startswith(\"# Vertex\"):\n",
    "                tmp = line.replace(\"# \", \"\").split(\" \")\n",
    "                for e in tmp:\n",
    "                    header.append(header_map[e])\n",
    "        else: # Process nodes data\n",
    "            tmp = line.split(\" \")\n",
    "            t = {}\n",
    "            for k, v in zip(header, tmp):\n",
    "                if k in [\"theta_rad\", \"r\", \"kappa\"]:\n",
    "                    t[k] = float(v)\n",
    "                else:\n",
    "                    t[k] = v\n",
    "            nodes.append(t)\n",
    "\n",
    "dataset[\"parameters\"] = parameters\n",
    "dataset[\"nodes\"] = nodes\n",
    "\n",
    "print(\"# of nodes: {}\".format(len(dataset[\"nodes\"])))"
   ]
  },
  {
   "cell_type": "code",
   "execution_count": 3,
   "id": "aa16a2a7",
   "metadata": {},
   "outputs": [
    {
     "name": "stdout",
     "output_type": "stream",
     "text": [
      "# of node ids: 1215\n"
     ]
    }
   ],
   "source": [
    "# Dictionary to hold the nodes' attributes, theta (\"t\") and radius (\"r\").\n",
    "NDict = {}\n",
    "\n",
    "# Loop through all nodes and cast their attributes from string to float.\n",
    "for n in dataset[\"nodes\"]:\n",
    "    # Cast string values into float\n",
    "    NDict[n[\"id\"]] = {\n",
    "        \"t\": n[\"theta_rad\"],\n",
    "        \"r\": n[\"r\"]\n",
    "    }\n",
    "\n",
    "# Get all node ids to create all possible links between them.\n",
    "all_n_ids = NDict.keys()\n",
    "\n",
    "print(\"# of node ids: {}\".format(len(all_n_ids)))"
   ]
  },
  {
   "cell_type": "markdown",
   "id": "9a74bf99",
   "metadata": {},
   "source": [
    "### 3. Prepare all node combinations and estimate the hyperbolic distance between them. "
   ]
  },
  {
   "cell_type": "code",
   "execution_count": 4,
   "id": "953e137a",
   "metadata": {},
   "outputs": [
    {
     "name": "stdout",
     "output_type": "stream",
     "text": [
      "All link combinations: 737505\n"
     ]
    }
   ],
   "source": [
    "import math\n",
    "import itertools\n",
    "\n",
    "# Function to calculate the hyperbolic distance between two nodes\n",
    "def distance(i, j):\n",
    "    ti = i[\"t\"]\n",
    "    tj = j[\"t\"]\n",
    "    ri = i[\"r\"]\n",
    "    rj = j[\"r\"]\n",
    "    t_ij = math.pi - abs(math.pi - abs(ti - tj))\n",
    "    return math.acosh( math.cosh(ri) * math.cosh(rj) - math.sinh(ri) * math.sinh(rj) * math.cos(t_ij) )\n",
    "\n",
    "# Variable to hold the distance between all node combinations\n",
    "Comb = {}\n",
    "\n",
    "\n",
    "for i, j in itertools.combinations(all_n_ids, 2):\n",
    "    dist = distance(NDict[i], NDict[j])\n",
    "    Comb[i + \"<->\" + j] = dist\n",
    "    \n",
    "print(\"All link combinations: {}\".format(len(Comb)))"
   ]
  },
  {
   "cell_type": "code",
   "execution_count": 5,
   "id": "eca7a2ab",
   "metadata": {},
   "outputs": [
    {
     "name": "stdout",
     "output_type": "stream",
     "text": [
      "Found:    1181\n",
      "Not fount:   0\n",
      "Check:    1181\n"
     ]
    }
   ],
   "source": [
    "# Make sure we have all links for each direction, that is A -> B or B -> A\n",
    "new_pos_links = []\n",
    "\n",
    "found = 0\n",
    "not_found = 0\n",
    "\n",
    "for p in pos_links:\n",
    "    #print(p)\n",
    "    if p in Comb:\n",
    "        new_pos_links.append(p)\n",
    "        found += 1\n",
    "    else:\n",
    "        t = p.split(\"<->\")\n",
    "        nt = t[1] + \"<->\" + t[0]\n",
    "        #print(t, nt)\n",
    "        if nt in Comb:\n",
    "            new_pos_links.append(nt)\n",
    "            found += 1\n",
    "        else:\n",
    "            not_found += 1\n",
    "            \n",
    "pos_links = new_pos_links\n",
    "\n",
    "# Check that we found all pairs that share IP\n",
    "print(\"Found: {:>7}\\nNot fount: {:>3}\\nCheck: {:>7}\".format(found, not_found, found + not_found))"
   ]
  },
  {
   "cell_type": "markdown",
   "id": "ce3f7dc1",
   "metadata": {},
   "source": [
    "### 4. Estimate Hyperbolic Distance"
   ]
  },
  {
   "cell_type": "code",
   "execution_count": 6,
   "id": "0274b683",
   "metadata": {},
   "outputs": [],
   "source": [
    "import operator\n",
    "\n",
    "# Assigned nodes to bins based on their hyperbolic distance.\n",
    "def create_bins(combinations, step, debug=False):\n",
    "    # First we sort all pairs based on their hyperbolic distance\n",
    "    sorted_dist = sorted(combinations.items(), key=operator.itemgetter(1), reverse=True)\n",
    "    s_f = sorted_dist.copy()\n",
    "\n",
    "    # Variables to allow us to assign nodes to different hyperbolic distance bins\n",
    "    bin_min = 0\n",
    "    bin_max = step\n",
    "    counter = 0\n",
    "    bin = str(bin_max)\n",
    "    # To hold the final pairs in each bin\n",
    "    res = {}\n",
    "    # Initialize the first bin\n",
    "    res[bin] = []\n",
    "\n",
    "    N = s_f.pop()\n",
    "    while len(s_f) != 0:\n",
    "        dist = N[1]\n",
    "        if dist >= bin_max:\n",
    "            if debug: print(bin, counter, len(res[bin]), N)\n",
    "            bin_min = bin_max\n",
    "            bin_max += step\n",
    "            counter = 0\n",
    "            bin = str(bin_max)\n",
    "        if bin not in res:\n",
    "            res[bin] = []\n",
    "        if dist <= bin_max and dist >= bin_min:\n",
    "            res[bin].append(N)\n",
    "            N = s_f.pop()\n",
    "            counter += 1\n",
    "\n",
    "    # To handle the last node N from s_f.pop() above. \n",
    "    while True:\n",
    "        dist = N[1]\n",
    "        if dist >= bin_max:\n",
    "            if debug: print(bin, counter, len(res[bin]), N)\n",
    "            bin_min = bin_max\n",
    "            bin_max += step\n",
    "            counter = 0\n",
    "            bin = str(bin_max)\n",
    "        if bin not in res:\n",
    "            res[bin] = []\n",
    "        if dist <= bin_max and dist >= bin_min:\n",
    "            res[bin].append(N)\n",
    "            counter += 1\n",
    "            break\n",
    "    if debug: print(bin, counter, len(res[bin]), N)\n",
    "    return res\n",
    "\n",
    "# Estimate the merge probability per bin and return the plot data\n",
    "def create_plot_data(bins, org_map, debug=False):\n",
    "    labels = []\n",
    "    props = []\n",
    "    pos_counter = 0\n",
    "\n",
    "    for b in bins:\n",
    "        z = len(bins[b])\n",
    "        m = 0\n",
    "        for c in bins[b]:\n",
    "            t = c[0].split(\"<->\")\n",
    "            src = t[0]\n",
    "            dst = t[1]\n",
    "            label = src + \"<->\" + dst\n",
    "            if label in pos_links or dst + \"<->\" + src in pos_links:\n",
    "                m += 1\n",
    "            pos_counter += 1\n",
    "    \n",
    "        m_z = 0\n",
    "\n",
    "        # Estimate the merge probability\n",
    "        if z != 0:\n",
    "            m_z = m/z\n",
    "\n",
    "        if debug: print(b, z, m, m_z)\n",
    "        if z > 0: # Exclude bins with no observations\n",
    "            labels.append(b)\n",
    "            props.append(m_z)\n",
    "        else:\n",
    "            labels.append(b)\n",
    "            props.append(None)\n",
    "    return labels, props\n",
    "    "
   ]
  },
  {
   "cell_type": "code",
   "execution_count": 7,
   "id": "90beb430",
   "metadata": {},
   "outputs": [],
   "source": [
    "# Define the hyperbolic distance binning step\n",
    "STEP = 3"
   ]
  },
  {
   "cell_type": "code",
   "execution_count": 8,
   "id": "c0b96407",
   "metadata": {},
   "outputs": [
    {
     "name": "stdout",
     "output_type": "stream",
     "text": [
      "# of pairs: 737505\n"
     ]
    }
   ],
   "source": [
    "import operator\n",
    "\n",
    "sorted_dist = sorted(Comb.items(), key=operator.itemgetter(1), reverse=True)\n",
    "print(\"# of pairs: {}\".format(len(sorted_dist)))"
   ]
  },
  {
   "cell_type": "code",
   "execution_count": 9,
   "id": "94c083a0",
   "metadata": {},
   "outputs": [
    {
     "name": "stdout",
     "output_type": "stream",
     "text": [
      "# of bins: 27\n"
     ]
    }
   ],
   "source": [
    "# Assigned nodes to bins based on their hyperbolic distance.\n",
    "BINS = create_bins(combinations=Comb, step=STEP, debug=False)\n",
    "print(\"# of bins: {}\".format(len(BINS)))"
   ]
  },
  {
   "cell_type": "code",
   "execution_count": 10,
   "id": "4ab65a2d",
   "metadata": {},
   "outputs": [
    {
     "name": "stdout",
     "output_type": "stream",
     "text": [
      "# of labels: 27\n",
      "# of props: 27\n"
     ]
    }
   ],
   "source": [
    "# Prepare data for plotting\n",
    "labels, props = create_plot_data(bins=BINS, org_map=pos_links, debug=False)\n",
    "print(\"# of labels: {}\\n# of props: {}\".format(len(labels), len(props)))"
   ]
  },
  {
   "cell_type": "code",
   "execution_count": 11,
   "id": "1a29b017",
   "metadata": {},
   "outputs": [
    {
     "name": "stdout",
     "output_type": "stream",
     "text": [
      "Discriminatory Power: 0.001601345075626606\n",
      "Baseline Probability: 0.1601345075626606\n"
     ]
    }
   ],
   "source": [
    "# Discriminatory Power\n",
    "merged_seen = len(pos_links)\n",
    "ALL_PAIRS = set(Comb.keys())\n",
    "disc_power = merged_seen/len(ALL_PAIRS)\n",
    "print(\"Discriminatory Power: {}\\nBaseline Probability: {}\".format(disc_power, merged_seen/len(ALL_PAIRS)*100))"
   ]
  },
  {
   "cell_type": "code",
   "execution_count": 13,
   "id": "3014621d",
   "metadata": {},
   "outputs": [
    {
     "data": {
      "image/png": "[encoded data removed]",
      "text/plain": [
       "<Figure size 600x400 with 1 Axes>"
      ]
     },
     "metadata": {
      "needs_background": "light"
     },
     "output_type": "display_data"
    }
   ],
   "source": [
    "import matplotlib\n",
    "import matplotlib.pyplot as plt\n",
    "from matplotlib.backends.backend_pdf import PdfPages\n",
    "import numpy as np\n",
    "from matplotlib.ticker import MaxNLocator\n",
    "\n",
    "font = {'family' : 'DejaVu Sans',\n",
    "        'weight' : 'normal',\n",
    "        'size'   : 16}\n",
    "matplotlib.rc('font', **font)\n",
    "\n",
    "pp = PdfPages(\"SharedIP_probability_Step_\" + str(STEP) + \".pdf\")\n",
    "\n",
    "fig, ax1 = plt.subplots(figsize=(6, 4), dpi=100)\n",
    "xs = np.arange(len(labels))\n",
    "disc_power_l = [disc_power for x in labels]\n",
    "np_props = np.array(props).astype(np.double)\n",
    "masks = np.isfinite(np_props)\n",
    "\n",
    "ax1.set_xlabel('hyperbolic disctance x')\n",
    "ax1.set_ylabel('$p_h(x)$')\n",
    "ax1.plot(xs[masks][:-4],  np_props[masks][:-4], 'ks-',  markersize=8, markerfacecolor=\"b\", markeredgewidth=1.0, markeredgecolor=\"black\", color=\"black\")\n",
    "\n",
    "ax1.plot(np.arange(len(labels)),  disc_power_l, linestyle='--', color='grey', label = 'baseline probability')\n",
    "ax1.text(disc_power+7.3, disc_power+0.0004, \"{:.4f}\".format(disc_power), transform=ax1.transData)\n",
    "\n",
    "ax1.tick_params(axis='y')\n",
    "ax1.set_xticks(range(len(labels)))\n",
    "ax1.set_xticklabels(labels)\n",
    "ax1.tick_params(axis='x', labelrotation = 0)\n",
    "ax1.xaxis.set_major_locator(MaxNLocator(nbins=10))\n",
    "\n",
    "plt.legend()\n",
    "plt.yscale('log')\n",
    "ax1.set_ylim([0.000001, 1.5])\n",
    "ax1.set_xlim([7, 23])\n",
    "ax1.set_yticks([1, 0.1, 0.001, 0.0001, 0.00001, 0.000001], minor=True)\n",
    "\n",
    "fig.tight_layout()  # otherwise the right y-label is slightly clipped\n",
    "plt.savefig(pp, format='pdf')\n",
    "pp.close()"
   ]
  },
  {
   "cell_type": "code",
   "execution_count": null,
   "id": "b5f6ddb6",
   "metadata": {},
   "outputs": [],
   "source": []
  }
 ],
 "metadata": {
  "kernelspec": {
   "display_name": "Python 3",
   "language": "python",
   "name": "python3"
  },
  "language_info": {
   "codemirror_mode": {
    "name": "ipython",
    "version": 3
   },
   "file_extension": ".py",
   "mimetype": "text/x-python",
   "name": "python",
   "nbconvert_exporter": "python",
   "pygments_lexer": "ipython3",
   "version": "3.8.11"
  }
 },
 "nbformat": 4,
 "nbformat_minor": 5
}
