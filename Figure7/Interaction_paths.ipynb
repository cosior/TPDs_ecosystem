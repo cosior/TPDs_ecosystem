{
 "cells": [
  {
   "cell_type": "markdown",
   "metadata": {},
   "source": [
    "# Recreation of Figure 6\n",
    "Distribution of interaction path lengths between legal entities. "
   ]
  },
  {
   "cell_type": "markdown",
   "metadata": {},
   "source": [
    "### 1. Load the raw paths"
   ]
  },
  {
   "cell_type": "code",
   "execution_count": 2,
   "metadata": {},
   "outputs": [
    {
     "name": "stdout",
     "output_type": "stream",
     "text": [
      "Raw Paths: 143271\n",
      "TOTAL OVERALL PATHS: 1121636\n",
      "UNIQUE PATHS: 62418\n"
     ]
    }
   ],
   "source": [
    "import json\n",
    "import itertools\n",
    "\n",
    "# Load actual paths from file\n",
    "with open(\"PathsList.json\", \"r\") as fp:\n",
    "    PATHS_LIST = json.load(fp)    \n",
    "print(\"Raw Paths:\", len(PATHS_LIST))\n",
    "\n",
    "# Remove duplicate paths\n",
    "TMP_PATHS = []\n",
    "for p in PATHS_LIST:\n",
    "    for l in PATHS_LIST[p]['paths']:\n",
    "        TMP_PATHS.append(l)\n",
    "        \n",
    "print(\"TOTAL OVERALL PATHS:\", len(TMP_PATHS))\n",
    "\n",
    "# Print the overall unique max paths\n",
    "TMP_PATHS.sort()\n",
    "UN_MAX = list(TMP_PATHS for TMP_PATHS,_ in itertools.groupby(TMP_PATHS))\n",
    "print(\"UNIQUE PATHS:\", len(UN_MAX))"
   ]
  },
  {
   "cell_type": "code",
   "execution_count": 3,
   "metadata": {},
   "outputs": [
    {
     "name": "stdout",
     "output_type": "stream",
     "text": [
      "TMP_Pairs_set: 50855 TOTAL_NODES: 9758\n"
     ]
    }
   ],
   "source": [
    "# Calculate the source and destination pairs keys and the paths to check against shortest paths\n",
    "TMP_Pairs_set = {}\n",
    "\n",
    "TOTAL_NODES = set()\n",
    "\n",
    "for e in UN_MAX:\n",
    "    key = e[0] + \" \" + e[-1]\n",
    "    \n",
    "    if key not in TMP_Pairs_set:\n",
    "        TMP_Pairs_set[key] = []\n",
    "    TMP_Pairs_set[key].append(e)\n",
    "    \n",
    "    for n in e:\n",
    "        TOTAL_NODES.add(n)\n",
    "    \n",
    "print(\"TMP_Pairs_set:\", len(TMP_Pairs_set), \"TOTAL_NODES:\", len(TOTAL_NODES))"
   ]
  },
  {
   "cell_type": "code",
   "execution_count": 4,
   "metadata": {},
   "outputs": [
    {
     "name": "stdout",
     "output_type": "stream",
     "text": [
      "# of Links: 5920\n",
      "From: 5920, To: 5920\n",
      "# of Nodes: 1215\n"
     ]
    }
   ],
   "source": [
    "# Build the original graph\n",
    "import pandas as pd\n",
    "import networkx as nx\n",
    "\n",
    "\n",
    "f_name = \"../Datasets/EdgeList_Legal_Entities.txt\"\n",
    "\n",
    "# To hold the node links\n",
    "links = []\n",
    "\n",
    "with open(f_name, \"r\") as fp:\n",
    "    for l in fp.readlines():\n",
    "        line = l.strip().split(\" \")\n",
    "        links.append({\n",
    "            \"source\": line[0],\n",
    "            \"target\": line[1]\n",
    "        })\n",
    "print(\"# of Links:\", len(links))\n",
    "\n",
    "from_n = []\n",
    "to_n = []\n",
    "\n",
    "for l in links:\n",
    "    from_n.append(l[\"source\"])\n",
    "    to_n.append(l[\"target\"])\n",
    "print(\"From: {}, To: {}\".format(len(from_n), len(to_n)))\n",
    "\n",
    "# Build a dataframe with 4 connections\n",
    "df = pd.DataFrame({'from':from_n, 'to':to_n})\n",
    "\n",
    "# Build your graph\n",
    "G=nx.from_pandas_edgelist(df, 'from', 'to')\n",
    "print(\"# of Nodes:\", len(G.nodes))"
   ]
  },
  {
   "cell_type": "code",
   "execution_count": 5,
   "metadata": {},
   "outputs": [
    {
     "name": "stdout",
     "output_type": "stream",
     "text": [
      "# of clean paths: 7890\n"
     ]
    }
   ],
   "source": [
    "# Exclude all actual paths that include a node that is not present in the actual graph (mostly the actual visited website)\n",
    "Pairs_set = {}\n",
    "G_nodes = set(G.nodes)\n",
    "\n",
    "for p in  TMP_Pairs_set: # For each key pair\n",
    "    v_paths = [] # To hold the valid paths\n",
    "    for e in TMP_Pairs_set[p]: # For each path in the key pair\n",
    "        valid = True\n",
    "        for n in e: # For each node in the path\n",
    "            if n not in G_nodes:\n",
    "                valid = False\n",
    "                break\n",
    "        if valid:\n",
    "            v_paths.append(e)\n",
    "    if len(v_paths) > 0:\n",
    "        Pairs_set[p] = v_paths\n",
    "print(\"# of clean paths: {}\".format(len(Pairs_set)))"
   ]
  },
  {
   "cell_type": "markdown",
   "metadata": {},
   "source": [
    "### 2. Create the statistics, that is, the number of paths per hops length"
   ]
  },
  {
   "cell_type": "code",
   "execution_count": 6,
   "metadata": {},
   "outputs": [
    {
     "name": "stdout",
     "output_type": "stream",
     "text": [
      "{\n",
      "  \"1\": 6235,\n",
      "  \"2\": 3864,\n",
      "  \"3\": 610,\n",
      "  \"4\": 38\n",
      "}\n",
      "Sum: 10747\n",
      "Unique pairs: 7890\n"
     ]
    }
   ],
   "source": [
    "Stats = {}\n",
    "\n",
    "for k in Pairs_set:\n",
    "    for p in Pairs_set[k]:\n",
    "        key = len(p) - 1\n",
    "        if key not in Stats:\n",
    "            Stats[key] = 0\n",
    "        Stats[key] += 1\n",
    "        \n",
    "print(json.dumps(Stats, indent=2))\n",
    "print(\"Sum:\", sum(Stats.values()))\n",
    "print(\"Unique pairs: {}\".format(len(Pairs_set)))"
   ]
  },
  {
   "cell_type": "code",
   "execution_count": 7,
   "metadata": {},
   "outputs": [
    {
     "name": "stdout",
     "output_type": "stream",
     "text": [
      "1 6235 6235\n",
      "2 3864 3864\n",
      "3 610 610\n",
      "4 38 38\n",
      "Average hops: 1.48\n"
     ]
    }
   ],
   "source": [
    "#### Estimate average hops for all actual paths\n",
    "dist_h = []\n",
    "last_max = len(dist_h)\n",
    "for h in Stats:\n",
    "    for i in range(Stats[h]):\n",
    "        dist_h.append(h)\n",
    "    print(h, Stats[h], len(dist_h) - last_max)\n",
    "    last_max = len(dist_h)\n",
    "print(\"Average hops: {:.2f}\".format(sum(dist_h) / len(dist_h)))"
   ]
  },
  {
   "cell_type": "markdown",
   "metadata": {},
   "source": [
    "### 3. Prepare data and plot them."
   ]
  },
  {
   "cell_type": "code",
   "execution_count": 8,
   "metadata": {},
   "outputs": [
    {
     "name": "stdout",
     "output_type": "stream",
     "text": [
      "# of labels: 4\n",
      "#of values: 4\n"
     ]
    }
   ],
   "source": [
    "# Prepare datset for plot\n",
    "all_s = sum(Stats.values())\n",
    "\n",
    "elabels = []\n",
    "evalues = []\n",
    "\n",
    "for k in Stats:\n",
    "    elabels.append(k)\n",
    "    evalues.append(Stats[k] / all_s)\n",
    "\n",
    "print(\"# of labels: {}\\n#of values: {}\".format(len(elabels), len(evalues)))"
   ]
  },
  {
   "cell_type": "code",
   "execution_count": 9,
   "metadata": {},
   "outputs": [
    {
     "data": {
      "image/png": "[encoded data removed]",
      "text/plain": [
       "<Figure size 600x400 with 1 Axes>"
      ]
     },
     "metadata": {
      "needs_background": "light"
     },
     "output_type": "display_data"
    }
   ],
   "source": [
    "import matplotlib\n",
    "from matplotlib import pyplot as plt\n",
    "from matplotlib.backends.backend_pdf import PdfPages\n",
    "\n",
    "font = {'family': 'DejaVu Sans',\n",
    "        'weight': 'normal',\n",
    "        'size'  : 15}\n",
    "matplotlib.rc('font', **font)\n",
    "\n",
    "markerSize = 10\n",
    "pp = PdfPages(\"Actual_Paths_Count_pdf_ALL.pdf\")\n",
    "\n",
    "fig, ax = plt.subplots(figsize=(6, 4), dpi=100)\n",
    "plt.plot(elabels, evalues, 'ks-', markevery=1, linestyle='solid', markersize=markerSize, markerfacecolor=\"b\", markeredgewidth=1.0, markeredgecolor=\"black\", label=\"EPDF\")\n",
    "ax.ticklabel_format(style='plain')\n",
    "plt.xlabel('path length')\n",
    "plt.ylabel('percentage of paths')\n",
    "\n",
    "plt.tight_layout()\n",
    "plt.savefig(pp, format='pdf')\n",
    "pp.close()"
   ]
  },
  {
   "cell_type": "markdown",
   "metadata": {},
   "source": [
    "### 4. Estimate shortest paths"
   ]
  },
  {
   "cell_type": "code",
   "execution_count": 10,
   "metadata": {},
   "outputs": [
    {
     "name": "stdout",
     "output_type": "stream",
     "text": [
      "5920\n",
      "From: 5920, To: 5920\n"
     ]
    }
   ],
   "source": [
    "# Build the original graph\n",
    "import pandas as pd\n",
    "import numpy as np\n",
    "import networkx as nx\n",
    "\n",
    "links = []\n",
    "\n",
    "with open(\"../Datasets/EdgeList_Legal_Entities.txt\", \"r\") as fp:\n",
    "    for l in fp.readlines():\n",
    "        line = l.strip().split(\" \")\n",
    "        links.append({\n",
    "            \"source\": line[0],\n",
    "            \"target\": line[1]\n",
    "        })\n",
    "print(len(links))\n",
    "\n",
    "from_n = []\n",
    "to_n = []\n",
    "\n",
    "for l in links:\n",
    "    from_n.append(l[\"source\"])\n",
    "    to_n.append(l[\"target\"])\n",
    "print(\"From: {}, To: {}\".format(len(from_n), len(to_n)))\n",
    "\n",
    "# Build a dataframe\n",
    "df = pd.DataFrame({'from':from_n, 'to':to_n})\n",
    "\n",
    "# Build the graph\n",
    "G=nx.from_pandas_edgelist(df, 'from', 'to')"
   ]
  },
  {
   "cell_type": "code",
   "execution_count": 11,
   "metadata": {},
   "outputs": [],
   "source": [
    "# Select the shortest path if we have more than one path for the same source destination pair\n",
    "def select_path(p_list, short=True):\n",
    "    if len(p_list) == 1:\n",
    "        return p_list[0]\n",
    "    else:\n",
    "        s_index = 0\n",
    "        if short:\n",
    "            short_length = 1000\n",
    "        else:\n",
    "            short_length = 0\n",
    "        for i, e in zip(range(0, len(p_list)), p_list):\n",
    "            if short:\n",
    "                if len(e) < short_length:\n",
    "                    s_index = i\n",
    "                    short_length = len(e)\n",
    "            else:\n",
    "                if len(e) > short_length:\n",
    "                    s_index = i\n",
    "                    short_length = len(e)\n",
    "        return p_list[s_index]"
   ]
  },
  {
   "cell_type": "code",
   "execution_count": 12,
   "metadata": {},
   "outputs": [
    {
     "name": "stdout",
     "output_type": "stream",
     "text": [
      "Short: 7155, Not_short: 199, All: 10747, Valid: 7354\n"
     ]
    }
   ],
   "source": [
    "# Check how many actual paths are actually shortest.\n",
    "short_found= 0\n",
    "not_short = 0\n",
    "\n",
    "S_paths = {}\n",
    "\n",
    "for p in Pairs_set:\n",
    "    t = p.split(\" \")\n",
    "    src = t[0]\n",
    "    dest = t[1]\n",
    "    \n",
    "    path = select_path(Pairs_set[p])\n",
    "    s_path = list(nx.all_shortest_paths(G, src, dest))\n",
    "    p_length = len(s_path[0])\n",
    "    \n",
    "    # Check if we have less hops than our path\n",
    "    if p_length < len(path):\n",
    "        not_short += 1\n",
    "        S_paths[p] = s_path[0]\n",
    "    else:\n",
    "        is_short = False\n",
    "        \n",
    "        for s in s_path:\n",
    "            if s == path:\n",
    "                is_short = True\n",
    "                break\n",
    "        if is_short:\n",
    "            short_found += 1\n",
    "            S_paths[p] = path\n",
    "            \n",
    "print(\"Short: {}, Not_short: {}, All: {}, Valid: {}\". \\\n",
    "      format(short_found, not_short, sum(Stats.values()), short_found+not_short))"
   ]
  },
  {
   "cell_type": "code",
   "execution_count": 13,
   "metadata": {},
   "outputs": [],
   "source": [
    "# Calculate shortest path hops length\n",
    "SH_pathLengths = []\n",
    "\n",
    "for k in S_paths:\n",
    "    l = S_paths[k]\n",
    "    SH_pathLengths.append(len(l)-1)"
   ]
  },
  {
   "cell_type": "code",
   "execution_count": 14,
   "metadata": {},
   "outputs": [
    {
     "name": "stdout",
     "output_type": "stream",
     "text": [
      "7890\n"
     ]
    }
   ],
   "source": [
    "# Make sure we select the shortest path from the actual paths for fair comparison.\n",
    "Act_Pairs_Clean = {}\n",
    "\n",
    "for k in Pairs_set:\n",
    "    Act_Pairs_Clean[k] = select_path(Pairs_set[k])\n",
    "\n",
    "print(len(Act_Pairs_Clean))"
   ]
  },
  {
   "cell_type": "code",
   "execution_count": 15,
   "metadata": {},
   "outputs": [
    {
     "name": "stdout",
     "output_type": "stream",
     "text": [
      "Exact Match: 97.29%\n",
      "Avg Stretch:  1.01\n",
      "Max Stretch:  2.00\n"
     ]
    }
   ],
   "source": [
    "# Finally check the percentage of actual vs shortest\n",
    "AC_SH_Stretch = {}\n",
    "Exact_match = 0\n",
    "\n",
    "def Average(lst):\n",
    "    return sum(lst) / len(lst)\n",
    "\n",
    "for p in Act_Pairs_Clean:    \n",
    "    if p in S_paths:\n",
    "        if Act_Pairs_Clean[p] == S_paths[p]:\n",
    "            Exact_match += 1\n",
    "        AC_SH_Stretch[p] = len(Act_Pairs_Clean[p]) / len(S_paths[p])\n",
    "\n",
    "print(\"Exact Match: {:.2f}%\".format(Exact_match / len(AC_SH_Stretch) * 100))\n",
    "print(\"Avg Stretch:  {:.2f}\".format(Average(AC_SH_Stretch.values())))\n",
    "print(\"Max Stretch:  {:.2f}\".format(max(AC_SH_Stretch.values())))"
   ]
  },
  {
   "cell_type": "code",
   "execution_count": null,
   "metadata": {},
   "outputs": [],
   "source": []
  }
 ],
 "metadata": {
  "interpreter": {
   "hash": "e5ceffe36725d6594f0b4b76fdd457e5b51e88c3fca6822fb7de15c7ce3cac26"
  },
  "kernelspec": {
   "display_name": "Python 3.8.11 64-bit ('base': conda)",
   "language": "python",
   "name": "python3"
  },
  "language_info": {
   "codemirror_mode": {
    "name": "ipython",
    "version": 3
   },
   "file_extension": ".py",
   "mimetype": "text/x-python",
   "name": "python",
   "nbconvert_exporter": "python",
   "pygments_lexer": "ipython3",
   "version": "3.8.11"
  },
  "orig_nbformat": 4
 },
 "nbformat": 4,
 "nbformat_minor": 2
}
